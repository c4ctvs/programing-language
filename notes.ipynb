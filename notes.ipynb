{
 "cells": [
  {
   "cell_type": "markdown",
   "id": "eccf0e33",
   "metadata": {},
   "source": [
    "# Llinks\n",
    "\n",
    "- Write PL in rust [website](https://arzg.github.io/lang/1/), [github](https://github.com/arzg/eldiro)\n",
    "- <https://createlang.rs/intro.html>\n",
    "- <https://en.wikibooks.org/wiki/Write_Yourself_a_Scheme_in_48_Hours>\n",
    "- [Stamford compilers](http://openclassroom.stanford.edu/MainFolder/CoursePage.php?course=Compilers)\n",
    "- Parsing with operator precedense <https://matklad.github.io/2020/04/13/simple-but-powerful-pratt-parsing.html>"
   ]
  },
  {
   "cell_type": "code",
   "execution_count": null,
   "id": "13d334f6",
   "metadata": {},
   "outputs": [],
   "source": []
  }
 ],
 "metadata": {
  "kernelspec": {
   "display_name": "Python 3 (ipykernel)",
   "language": "python",
   "name": "python3"
  },
  "language_info": {
   "codemirror_mode": {
    "name": "ipython",
    "version": 3
   },
   "file_extension": ".py",
   "mimetype": "text/x-python",
   "name": "python",
   "nbconvert_exporter": "python",
   "pygments_lexer": "ipython3",
   "version": "3.8.10"
  }
 },
 "nbformat": 4,
 "nbformat_minor": 5
}
